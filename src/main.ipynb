{
 "cells": [
  {
   "cell_type": "markdown",
   "source": [
    "# Activity - working with LLMs\n",
    "## Steps\n",
    "\n",
    "1. Import the packages from utils\n",
    "2. Read the example_text.txt file\n",
    "3. Perform any necessary cleaning\n",
    "4. Create a summarization of data/example_text.txt\n",
    "5. Try playing with the arguments of the bullet_point_summary function or adding your own text :)"
   ],
   "metadata": {
    "collapsed": false
   },
   "id": "448c2aca671c4d08"
  },
  {
   "cell_type": "code",
   "execution_count": 4,
   "outputs": [],
   "source": [
    "from utils.clean_text import clean_text\n",
    "from utils.bullet_point_summary import bullet_point_summary"
   ],
   "metadata": {
    "collapsed": false,
    "ExecuteTime": {
     "end_time": "2023-08-24T14:33:01.196394900Z",
     "start_time": "2023-08-24T14:32:59.528831500Z"
    }
   },
   "id": "30d01100a9f8c43a"
  },
  {
   "cell_type": "markdown",
   "source": [],
   "metadata": {
    "collapsed": false
   },
   "id": "cd054919baa45f91"
  },
  {
   "cell_type": "code",
   "execution_count": 5,
   "outputs": [],
   "source": [
    "# Read the example_text.txt file via open\n",
    "with open(\"../data/example_text.txt\", \"r\") as file:\n",
    "    raw_text = file.readlines()[0]"
   ],
   "metadata": {
    "collapsed": false,
    "ExecuteTime": {
     "end_time": "2023-08-24T14:33:06.774441100Z",
     "start_time": "2023-08-24T14:33:06.749434Z"
    }
   },
   "id": "175bafaba4d7a3ac"
  },
  {
   "cell_type": "markdown",
   "source": [
    "Its best practice to unit test your functions to account for any edge cases - example of this can be found in ```../test/test_my_function.py```"
   ],
   "metadata": {
    "collapsed": false
   },
   "id": "560adb698524620"
  },
  {
   "cell_type": "code",
   "execution_count": null,
   "outputs": [],
   "source": [
    "# Apply the clean_text function\n",
    "cleaned_text = clean_text(raw_text)"
   ],
   "metadata": {
    "collapsed": false
   },
   "id": "e736cedeaba3d671"
  },
  {
   "cell_type": "code",
   "execution_count": null,
   "outputs": [],
   "source": [
    "# Write the cleaned_text to a file within ../data/ to compare with example_text.txt\n",
    "with open(\"../data/cleaned_text.txt\", \"w\") as file:\n",
    "    file.write(cleaned_text)"
   ],
   "metadata": {
    "collapsed": false
   },
   "id": "51b24eb667168586"
  },
  {
   "cell_type": "code",
   "execution_count": null,
   "outputs": [],
   "source": [
    "# Apply bullet_point_summary function to the cleaned_text\n",
    "summary = bullet_point_summary(cleaned_text)"
   ],
   "metadata": {
    "collapsed": false
   },
   "id": "95e177d9d5fd26d9"
  },
  {
   "cell_type": "code",
   "execution_count": null,
   "outputs": [],
   "source": [
    "# Evaluate the output - is it what you expected?\n",
    "print(summary)"
   ],
   "metadata": {
    "collapsed": false
   },
   "id": "e7d03669f2fcd1a4"
  }
 ],
 "metadata": {
  "kernelspec": {
   "display_name": "Python 3",
   "language": "python",
   "name": "python3"
  },
  "language_info": {
   "codemirror_mode": {
    "name": "ipython",
    "version": 2
   },
   "file_extension": ".py",
   "mimetype": "text/x-python",
   "name": "python",
   "nbconvert_exporter": "python",
   "pygments_lexer": "ipython2",
   "version": "2.7.6"
  }
 },
 "nbformat": 4,
 "nbformat_minor": 5
}
